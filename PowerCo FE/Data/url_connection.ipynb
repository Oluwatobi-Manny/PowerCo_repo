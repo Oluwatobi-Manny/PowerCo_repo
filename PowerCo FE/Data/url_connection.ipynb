{
 "cells": [
  {
   "cell_type": "code",
   "execution_count": null,
   "metadata": {},
   "outputs": [],
   "source": [
    "import pandas as pd"
   ]
  },
  {
   "cell_type": "code",
   "execution_count": null,
   "metadata": {},
   "outputs": [],
   "source": [
    "# Google Drive file ID\n",
    "clean_file_id = '19K_ZEpyvK3cKh8YquYhNjCbCc7GbzNUF'\n",
    "price_file_id = '1HM9FB-jaGS2OSBr1SHKojo-sk77S0xdZ' \n",
    "# Construct the direct download URL\n",
    "clean_url = f'https://drive.google.com/uc?export=download&id={clean_file_id}'\n",
    "price_url = f'https://drive.google.com/uc?export=download&id={price_file_id}'"
   ]
  },
  {
   "cell_type": "code",
   "execution_count": null,
   "metadata": {},
   "outputs": [],
   "source": [
    "# Read the url into a DataFrame\n",
    "df = pd.read_csv(clean_url, engine='python')\n",
    "price_df = pd.read_csv(price_url, engine='python')"
   ]
  }
 ],
 "metadata": {
  "language_info": {
   "name": "python"
  }
 },
 "nbformat": 4,
 "nbformat_minor": 2
}
