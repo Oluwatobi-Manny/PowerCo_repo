{
 "cells": [
  {
   "cell_type": "code",
   "execution_count": null,
   "metadata": {},
   "outputs": [],
   "source": [
    "import pandas as pd"
   ]
  },
  {
   "cell_type": "code",
   "execution_count": null,
   "metadata": {},
   "outputs": [],
   "source": [
    "# Load data"
   ]
  },
  {
   "cell_type": "code",
   "execution_count": null,
   "metadata": {},
   "outputs": [],
   "source": [
    "# Google Drive file ID\n",
    "client_file_id = '1ZqaMfoOePU6CN5XK7Y900nhMJYeNhYdc'\n",
    "price_file_id = '1HM9FB-jaGS2OSBr1SHKojo-sk77S0xdZ' \n",
    "# Construct the direct download URL\n",
    "client_url = f'https://drive.google.com/uc?export=download&id={client_file_id}'\n",
    "price_url = f'https://drive.google.com/uc?export=download&id={price_file_id}'"
   ]
  },
  {
   "cell_type": "code",
   "execution_count": null,
   "metadata": {},
   "outputs": [],
   "source": [
    "# Read the url into a DataFrame\n",
    "client_df = pd.read_csv(client_url, engine='python')\n",
    "price_df = pd.read_csv(price_url, engine='python')"
   ]
  }
 ],
 "metadata": {
  "language_info": {
   "name": "python"
  }
 },
 "nbformat": 4,
 "nbformat_minor": 2
}
